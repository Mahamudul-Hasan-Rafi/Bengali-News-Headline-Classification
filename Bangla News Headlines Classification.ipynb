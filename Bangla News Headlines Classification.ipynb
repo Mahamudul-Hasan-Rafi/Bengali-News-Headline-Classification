{
 "cells": [
  {
   "cell_type": "code",
   "execution_count": 575,
   "metadata": {},
   "outputs": [],
   "source": [
    "import pandas as pd\n",
    "import seaborn as sns\n",
    "import matplotlib.pyplot as plt\n",
    "import re\n",
    "import numpy as np\n",
    "from sklearn.preprocessing import LabelEncoder\n",
    "from sklearn.model_selection import train_test_split\n",
    "from sklearn.metrics import accuracy_score,precision_score,recall_score,f1_score,roc_auc_score\n",
    "from sklearn.metrics import confusion_matrix, classification_report\n",
    "import torch\n",
    "import torch.nn as nn\n",
    "from torch.utils.data import DataLoader"
   ]
  },
  {
   "cell_type": "markdown",
   "metadata": {},
   "source": [
    "## Data Preparation"
   ]
  },
  {
   "cell_type": "code",
   "execution_count": 2,
   "metadata": {},
   "outputs": [
    {
     "data": {
      "text/html": [
       "<div>\n",
       "<style scoped>\n",
       "    .dataframe tbody tr th:only-of-type {\n",
       "        vertical-align: middle;\n",
       "    }\n",
       "\n",
       "    .dataframe tbody tr th {\n",
       "        vertical-align: top;\n",
       "    }\n",
       "\n",
       "    .dataframe thead th {\n",
       "        text-align: right;\n",
       "    }\n",
       "</style>\n",
       "<table border=\"1\" class=\"dataframe\">\n",
       "  <thead>\n",
       "    <tr style=\"text-align: right;\">\n",
       "      <th></th>\n",
       "      <th>headline</th>\n",
       "      <th>category</th>\n",
       "      <th>newspaper name</th>\n",
       "    </tr>\n",
       "  </thead>\n",
       "  <tbody>\n",
       "    <tr>\n",
       "      <th>0</th>\n",
       "      <td>হঠাৎ করে কেঁদে ফেললেন ঐশ্বরিয়া রাই, কেন!</td>\n",
       "      <td>Amusement</td>\n",
       "      <td>Jugantor</td>\n",
       "    </tr>\n",
       "    <tr>\n",
       "      <th>1</th>\n",
       "      <td>এত দামি জুতা পরেন প্রিয়াঙ্কা!</td>\n",
       "      <td>Amusement</td>\n",
       "      <td>Jugantor</td>\n",
       "    </tr>\n",
       "    <tr>\n",
       "      <th>2</th>\n",
       "      <td>মৃত্যুর আগে শ্রীদেবীর শেষ ভিডিও</td>\n",
       "      <td>Amusement</td>\n",
       "      <td>Jugantor</td>\n",
       "    </tr>\n",
       "    <tr>\n",
       "      <th>3</th>\n",
       "      <td>কৌতুক অভিনেতা কপিল শর্মার ঘরে নতুন অতিথি</td>\n",
       "      <td>Amusement</td>\n",
       "      <td>Jugantor</td>\n",
       "    </tr>\n",
       "    <tr>\n",
       "      <th>4</th>\n",
       "      <td>বিয়ের পর কোহলির জন্য যে ত্যাগ করলেন আনুশকা</td>\n",
       "      <td>Amusement</td>\n",
       "      <td>Jugantor</td>\n",
       "    </tr>\n",
       "  </tbody>\n",
       "</table>\n",
       "</div>"
      ],
      "text/plain": [
       "                                     headline   category newspaper name\n",
       "0    হঠাৎ করে কেঁদে ফেললেন ঐশ্বরিয়া রাই, কেন!  Amusement       Jugantor\n",
       "1               এত দামি জুতা পরেন প্রিয়াঙ্কা!  Amusement       Jugantor\n",
       "2             মৃত্যুর আগে শ্রীদেবীর শেষ ভিডিও  Amusement       Jugantor\n",
       "3    কৌতুক অভিনেতা কপিল শর্মার ঘরে নতুন অতিথি  Amusement       Jugantor\n",
       "4  বিয়ের পর কোহলির জন্য যে ত্যাগ করলেন আনুশকা  Amusement       Jugantor"
      ]
     },
     "execution_count": 2,
     "metadata": {},
     "output_type": "execute_result"
    }
   ],
   "source": [
    "path='F:\\\\Ahsanullah University class topic\\SoftComputing Lab\\Assignment 3\\headlines.csv'\n",
    "df=pd.read_csv(path,encoding='utf-8-sig')\n",
    "df.head()"
   ]
  },
  {
   "cell_type": "code",
   "execution_count": 3,
   "metadata": {},
   "outputs": [
    {
     "data": {
      "image/png": "[encoded data removed]",
      "text/plain": [
       "<Figure size 432x288 with 1 Axes>"
      ]
     },
     "metadata": {},
     "output_type": "display_data"
    }
   ],
   "source": [
    "sns.set(font_scale=1.4)\n",
    "df['category'].value_counts().plot(kind='barh', figsize=(6,4))\n",
    "plt.xlabel('Number of Headlines', labelpad=12)\n",
    "plt.ylabel('Category', labelpad=12)\n",
    "plt.yticks(rotation = 45)\n",
    "plt.title(\"Dataset Distribution\", y=1.02);"
   ]
  },
  {
   "cell_type": "code",
   "execution_count": 4,
   "metadata": {},
   "outputs": [
    {
     "data": {
      "text/plain": [
       "Index(['headline', 'category', 'newspaper name'], dtype='object')"
      ]
     },
     "execution_count": 4,
     "metadata": {},
     "output_type": "execute_result"
    }
   ],
   "source": [
    "df.columns"
   ]
  },
  {
   "cell_type": "markdown",
   "metadata": {},
   "source": [
    "## Data Cleaning"
   ]
  },
  {
   "cell_type": "code",
   "execution_count": 5,
   "metadata": {},
   "outputs": [
    {
     "name": "stdout",
     "output_type": "stream",
     "text": [
      "Original Data-->  কলকাতার ছবিতেও নিয়মিত অভিনয় করার ইচ্ছা আছে: অপু বিশ্বাস \n",
      " Cleaned Data-->  কলকাতার ছবিতেও নিয়মিত অভিনয় করার ইচ্ছা আছে  অপু বিশ্বাস \n",
      " Category-->  Amusement\n",
      "Original Data-->  ‘মামা সব মশার জামিন হয়ে গেছে’ \n",
      " Cleaned Data-->   মামা সব মশার জামিন হয়ে গেছে  \n",
      " Category-->  Amusement\n",
      "Original Data-->  তৃতীয়-চতুর্থ শ্রেণির নিয়োগও হবে পিএসসির মাধ্যমে \n",
      " Cleaned Data-->  তৃতীয় চতুর্থ শ্রেণির নিয়োগও হবে পিএসসির মাধ্যমে \n",
      " Category-->  national\n",
      "Original Data-->  স্বপ্ন সত্যি হলো পন্টিংয়ের \n",
      " Cleaned Data-->  স্বপ্ন সত্যি হলো পন্টিংয়ের \n",
      " Category-->  sports\n",
      "Original Data-->  কমার্স কলেজের বার্ষিক ক্রীড়া \n",
      " Cleaned Data-->  কমার্স কলেজের বার্ষিক ক্রীড়া \n",
      " Category-->  sports\n"
     ]
    }
   ],
   "source": [
    "def cleaning(text):\n",
    "    headline=re.sub('[^\\u0980-\\u09FF]',' ',str(text))\n",
    "    return headline\n",
    "\n",
    "df['cleaned_headline']=df['headline'].apply(cleaning)\n",
    "\n",
    "indices=[2500, 3000, 50000, 91000, 100000]\n",
    "for i in indices:\n",
    "    print('Original Data--> ',df['headline'][i],'\\n', 'Cleaned Data--> ',df['cleaned_headline'][i],'\\n','Category--> ',df['category'][i])"
   ]
  },
  {
   "cell_type": "markdown",
   "metadata": {},
   "source": [
    "## Removing Low Length Data"
   ]
  },
  {
   "cell_type": "code",
   "execution_count": 6,
   "metadata": {},
   "outputs": [
    {
     "name": "stdout",
     "output_type": "stream",
     "text": [
      "Total Headlines:  136811\n",
      "Removed Headlines:   4098\n",
      "Total Headlines:   132713\n"
     ]
    }
   ],
   "source": [
    "df['Length']=df['cleaned_headline'].apply(lambda x: len(x.split()))\n",
    "print('Total Headlines: ',len(df))\n",
    "dataset=df.loc[df.Length>2]\n",
    "dataset=dataset.reset_index(drop=True)\n",
    "print('Removed Headlines:  ',len(df)-len(dataset))\n",
    "print('Total Headlines:  ',len(dataset))"
   ]
  },
  {
   "cell_type": "markdown",
   "metadata": {},
   "source": [
    "## Dataset Analysis"
   ]
  },
  {
   "cell_type": "code",
   "execution_count": 7,
   "metadata": {},
   "outputs": [],
   "source": [
    "class_labels=[k for k,v in dataset['category'].value_counts().to_dict().items()]\n",
    "    \n",
    "documents=[]\n",
    "words=[]\n",
    "u_words=[]\n",
    "total_words=[word.strip().lower() for t in list(df['cleaned_headline']) for word in t.strip().split()]\n",
    "\n",
    "def data_summary(dataset):\n",
    "    print('Total Words:  {}\\n'.format(len(total_words)))\n",
    "    for label in class_labels:\n",
    "        words_list = [word for t in dataset[dataset.category==label].cleaned_headline for word in t.strip().split()]\n",
    "        \n",
    "        counts=dict()\n",
    "        for w in words_list:\n",
    "            counts[w]=counts.get(w,0)+1\n",
    "        \n",
    "        ordered=sorted(counts.items(), key=lambda x:x[1], reverse=True)\n",
    "        \n",
    "        documents.append(len(list(dataset[dataset.category==label].cleaned_headline)))\n",
    "        u_words.append(len(np.unique(words_list)))\n",
    "        words.append(len(words_list))\n",
    "        \n",
    "        print('Category:-->{}'.format(label))\n",
    "        print('Number of documents:-->{}'.format(len(list(dataset[dataset.category==label].cleaned_headline))))\n",
    "        print('Number of Words:-->{}'.format(len(words_list)))\n",
    "        print('Number of Unique Words-->{}'.format(len(np.unique(words_list))))\n",
    "        \n",
    "        print('Most Unique Words: \\n')\n",
    "        for k,v in ordered[:10]:\n",
    "            print('{}--->{}'.format(k,v))\n",
    "        print('\\n')\n",
    "    \n",
    "    print('Total Unique Words:  {}'.format(len(np.unique(total_words))))"
   ]
  },
  {
   "cell_type": "code",
   "execution_count": 8,
   "metadata": {},
   "outputs": [
    {
     "name": "stdout",
     "output_type": "stream",
     "text": [
      "Total Words:  818161\n",
      "\n",
      "Category:-->International\n",
      "Number of documents:-->47885\n",
      "Number of Words:-->307354\n",
      "Number of Unique Words-->28710\n",
      "Most Unique Words: \n",
      "\n",
      "নিহত--->3398\n",
      "না--->2133\n",
      "নিয়ে--->1634\n",
      "ট্রাম্প--->1472\n",
      "মার্কিন--->1434\n",
      "ও--->1342\n",
      "থেকে--->1332\n",
      "ভারতের--->1212\n",
      "যুক্তরাষ্ট্র--->1208\n",
      "ভারত--->1192\n",
      "\n",
      "\n",
      "Category:-->sports\n",
      "Number of documents:-->30831\n",
      "Number of Words:-->152852\n",
      "Number of Unique Words-->18581\n",
      "Most Unique Words: \n",
      "\n",
      "বাংলাদেশ--->1581\n",
      "না--->1122\n",
      "জয়--->883\n",
      "বাংলাদেশের--->873\n",
      "শুরু--->782\n",
      "নিয়ে--->689\n",
      "সাকিব--->672\n",
      "ভারত--->619\n",
      "শেষ--->603\n",
      "দল--->573\n",
      "\n",
      "\n",
      "Category:-->national\n",
      "Number of documents:-->24557\n",
      "Number of Words:-->158042\n",
      "Number of Unique Words-->20710\n",
      "Most Unique Words: \n",
      "\n",
      "না--->1444\n",
      "হবে--->1292\n",
      "ও--->1215\n",
      "প্রধানমন্ত্রী--->1003\n",
      "আজ--->752\n",
      "থেকে--->617\n",
      "কাদের--->613\n",
      "খালেদা--->566\n",
      "বিএনপি--->557\n",
      "নিয়ে--->556\n",
      "\n",
      "\n",
      "Category:-->Amusement\n",
      "Number of documents:-->16067\n",
      "Number of Words:-->98582\n",
      "Number of Unique Words-->16622\n",
      "Most Unique Words: \n",
      "\n",
      "নতুন--->1158\n",
      "নিয়ে--->1074\n",
      "ও--->1003\n",
      "গান--->683\n",
      "ভিডিও--->517\n",
      "না--->484\n",
      "নাটক--->469\n",
      "খান--->461\n",
      "চলচ্চিত্র--->416\n",
      "আজ--->412\n",
      "\n",
      "\n",
      "Category:-->politics\n",
      "Number of documents:-->10577\n",
      "Number of Words:-->75657\n",
      "Number of Unique Words-->10398\n",
      "Most Unique Words: \n",
      "\n",
      "খালেদা--->1260\n",
      "বিএনপি--->918\n",
      "বিএনপির--->907\n",
      "না--->880\n",
      "কাদের--->861\n",
      "আ--->821\n",
      "জিয়ার--->820\n",
      "লীগের--->589\n",
      "হবে--->492\n",
      "লীগ--->477\n",
      "\n",
      "\n",
      "Category:-->IT\n",
      "Number of documents:-->2796\n",
      "Number of Words:-->17692\n",
      "Number of Unique Words-->5528\n",
      "Most Unique Words: \n",
      "\n",
      "নতুন--->167\n",
      "ফেসবুক--->165\n",
      "ও--->143\n",
      "স্মার্টফোন--->107\n",
      "নিয়ে--->95\n",
      "থেকে--->94\n",
      "শুরু--->86\n",
      "ডিজিটাল--->80\n",
      "জন্য--->79\n",
      "মোবাইল--->75\n",
      "\n",
      "\n",
      "Total Unique Words:  57895\n"
     ]
    }
   ],
   "source": [
    "data_summary(dataset)"
   ]
  },
  {
   "cell_type": "markdown",
   "metadata": {},
   "source": [
    "## Summary Visualization"
   ]
  },
  {
   "cell_type": "code",
   "execution_count": 9,
   "metadata": {},
   "outputs": [
    {
     "data": {
      "image/png": "[encoded data removed]",
      "text/plain": [
       "<Figure size 720x360 with 1 Axes>"
      ]
     },
     "metadata": {},
     "output_type": "display_data"
    }
   ],
   "source": [
    "data_matrix=pd.DataFrame({'Total Documents': documents,\n",
    "                         'Total Words': words,\n",
    "                         'Unique Words': u_words,\n",
    "                         'Class Names': class_labels})\n",
    "\n",
    "d=pd.melt(data_matrix,id_vars='Class Names', var_name='Category', value_name='Value')\n",
    "plt.figure(figsize=(10,5))\n",
    "ax=plt.subplot()\n",
    "\n",
    "sns.barplot(data=d, x='Class Names', y='Value', hue='Category')\n",
    "ax.set_xlabel('Class Names')\n",
    "ax.set_title('Data Statistics')\n",
    "\n",
    "ax.xaxis.set_ticklabels(class_labels, rotation=45);"
   ]
  },
  {
   "cell_type": "markdown",
   "metadata": {},
   "source": [
    "## Headline Length Distribution"
   ]
  },
  {
   "cell_type": "code",
   "execution_count": 10,
   "metadata": {},
   "outputs": [
    {
     "data": {
      "image/png": "[encoded data removed]",
      "text/plain": [
       "<Figure size 432x288 with 1 Axes>"
      ]
     },
     "metadata": {},
     "output_type": "display_data"
    },
    {
     "name": "stdout",
     "output_type": "stream",
     "text": [
      "Maximum Length of a headline: 21\n",
      "Minimum Length of a headline: 3\n",
      "Average Length of a headline: 6.0\n"
     ]
    }
   ],
   "source": [
    "headline_lengths=list(dataset['cleaned_headline'].apply(lambda x:len(x.split())))\n",
    "frequencies=dict()\n",
    "for l in headline_lengths:\n",
    "    frequencies[l]=frequencies.get(l,0)+1\n",
    "\n",
    "plt.bar(x=frequencies.keys(), height=frequencies.values());\n",
    "plt.xlabel('Length of Headlines')\n",
    "plt.ylabel('Frequency')\n",
    "plt.title('Length-Frequency Distribution')\n",
    "plt.show()\n",
    "print(f\"Maximum Length of a headline: {max(headline_lengths)}\")\n",
    "print(f\"Minimum Length of a headline: {min(headline_lengths)}\")\n",
    "print(f\"Average Length of a headline: {round(np.mean(headline_lengths),0)}\")"
   ]
  },
  {
   "cell_type": "markdown",
   "metadata": {},
   "source": [
    "## Label Encoding and Dataset Splitting"
   ]
  },
  {
   "cell_type": "code",
   "execution_count": 11,
   "metadata": {},
   "outputs": [],
   "source": [
    "def label_encoding(category):\n",
    "    le=LabelEncoder()\n",
    "    le.fit(category)\n",
    "    encoded_labels=np.array(le.transform(category))\n",
    "    \n",
    "    sample_ids=[1000,98111,12000,5900,89001, 12, 25676, 9876]\n",
    "    for i in sample_ids:\n",
    "        print('{}--->{}'.format(category[i], encoded_labels[i]))\n",
    "    return encoded_labels"
   ]
  },
  {
   "cell_type": "code",
   "execution_count": 12,
   "metadata": {},
   "outputs": [
    {
     "name": "stdout",
     "output_type": "stream",
     "text": [
      "Amusement--->0\n",
      "sports--->5\n",
      "politics--->4\n",
      "IT--->1\n",
      "sports--->5\n",
      "Amusement--->0\n",
      "International--->2\n",
      "politics--->4\n"
     ]
    }
   ],
   "source": [
    "labels=label_encoding(dataset.category)"
   ]
  },
  {
   "cell_type": "code",
   "execution_count": 202,
   "metadata": {},
   "outputs": [],
   "source": [
    "def dataset_splitting(headlines, category):\n",
    "    X,X_test,y,y_test=train_test_split(headlines, category, train_size=0.9, test_size=0.1, random_state=0)\n",
    "    X_train, X_valid, y_train, y_valid=train_test_split(X,y,train_size=0.8, test_size=0.2, random_state=0)\n",
    "    \n",
    "    print('Dataset Distribution:\\n')\n",
    "    print('\\tSet\\t\\tData')\n",
    "    print(\"\\t========\\t======\")\n",
    "    print('\\tTotal:\\t\\t{}'.format(len(headlines)))\n",
    "    print('\\tTrain:\\t\\t{}'.format(len(X_train)))\n",
    "    print('\\tTest:\\t\\t{}'.format(len(X_test)))\n",
    "    print('\\tValid:\\t\\t{}'.format(len(X_valid)))\n",
    "    \n",
    "    return X_train, X_valid, X_test, y_train, y_valid, y_test"
   ]
  },
  {
   "cell_type": "code",
   "execution_count": 203,
   "metadata": {},
   "outputs": [
    {
     "name": "stdout",
     "output_type": "stream",
     "text": [
      "Dataset Distribution:\n",
      "\n",
      "\tSet\t\tData\n",
      "\t========\t======\n",
      "\tTotal:\t\t132713\n",
      "\tTrain:\t\t95552\n",
      "\tTest:\t\t13272\n",
      "\tValid:\t\t23889\n"
     ]
    }
   ],
   "source": [
    "X_train,X_valid,X_test,y_train,y_valid,y_test=dataset_splitting(dataset.cleaned_headline, labels)"
   ]
  },
  {
   "cell_type": "code",
   "execution_count": 209,
   "metadata": {},
   "outputs": [
    {
     "data": {
      "text/plain": [
       "'তৃতীয়বারের মতো বিয়ে করলেন ফারজানা ব্রাউনিয়া'"
      ]
     },
     "execution_count": 209,
     "metadata": {},
     "output_type": "execute_result"
    }
   ],
   "source": [
    "X_test.iloc[5900]"
   ]
  },
  {
   "cell_type": "code",
   "execution_count": 210,
   "metadata": {},
   "outputs": [
    {
     "data": {
      "text/plain": [
       "array(['Amusement'], dtype=object)"
      ]
     },
     "execution_count": 210,
     "metadata": {},
     "output_type": "execute_result"
    }
   ],
   "source": [
    "le.inverse_transform([y_test[5900]])"
   ]
  },
  {
   "cell_type": "markdown",
   "metadata": {},
   "source": [
    "## Tokenization & Word Embedding (Bengali Glove)"
   ]
  },
  {
   "cell_type": "code",
   "execution_count": 29,
   "metadata": {},
   "outputs": [],
   "source": [
    "from bnlp import BasicTokenizer\n",
    "from bnlp import BengaliGlove\n",
    "import codecs"
   ]
  },
  {
   "cell_type": "code",
   "execution_count": 35,
   "metadata": {},
   "outputs": [
    {
     "data": {
      "text/plain": [
       "['যশোর', '৫', 'মনিরামপুরে', 'নৌকার', 'পক্ষে', 'লাভলুর', 'শোডাউন']"
      ]
     },
     "execution_count": 35,
     "metadata": {},
     "output_type": "execute_result"
    }
   ],
   "source": [
    "basic_tokenizer=BasicTokenizer()\n",
    "basic_tokenizer.tokenize(X_train[12818])"
   ]
  },
  {
   "cell_type": "code",
   "execution_count": 28,
   "metadata": {},
   "outputs": [
    {
     "data": {
      "text/plain": [
       "(300,)"
      ]
     },
     "execution_count": 28,
     "metadata": {},
     "output_type": "execute_result"
    }
   ],
   "source": [
    "glove_path = \"Bengali NLP Embedding/bn_glove.39M.300d.txt\"\n",
    "word = \"গ্রাম\"\n",
    "bng = BengaliGlove()\n",
    "bng.word2vec(glove_path, word).shape"
   ]
  },
  {
   "cell_type": "code",
   "execution_count": 82,
   "metadata": {},
   "outputs": [],
   "source": [
    "def load_glove_model(glove_file):\n",
    "    f = open(glove_file, 'r', encoding='utf-8')\n",
    "    model = {}\n",
    "    for line in f:\n",
    "        split_line = line.split()\n",
    "        word = split_line[0]\n",
    "        embedding = np.array([float(val) for val in split_line[1:]])\n",
    "        model[word] = embedding\n",
    "    return model"
   ]
  },
  {
   "cell_type": "code",
   "execution_count": 83,
   "metadata": {},
   "outputs": [],
   "source": [
    "glove_300d=load_glove_model('Bengali NLP Embedding/bn_glove.39M.300d.txt')"
   ]
  },
  {
   "cell_type": "code",
   "execution_count": 265,
   "metadata": {},
   "outputs": [],
   "source": [
    "def embed_text(text):\n",
    "    lst=[]\n",
    "    lst_pad=[[0]*300]*21\n",
    "\n",
    "    words=basic_tokenizer.tokenize(text) \n",
    "      \n",
    "    n=len(words)\n",
    "  \n",
    "    for t in words:\n",
    "        try:\n",
    "            embedded=list(glove_300d[t])\n",
    "            lst.append(embedded)\n",
    "        except:\n",
    "            lst.append(list(np.random.rand(300)))\n",
    "    \n",
    "    lst_pad[:n]=lst\n",
    "    embedding=np.array(lst_pad)\n",
    "\n",
    "    embedding=torch.from_numpy(embedding)\n",
    "    embedding=embedding.float()\n",
    "\n",
    "    return embedding,n"
   ]
  },
  {
   "cell_type": "code",
   "execution_count": 266,
   "metadata": {},
   "outputs": [
    {
     "data": {
      "text/plain": [
       "(tensor([[-0.4217, -0.1609,  0.0702,  ...,  0.4581,  0.4871, -0.1652],\n",
       "         [-0.3777,  0.8339, -0.4069,  ...,  0.0384,  0.6182, -0.1282],\n",
       "         [ 0.1703,  0.2032,  0.6650,  ...,  0.7410,  0.5693,  0.5794],\n",
       "         ...,\n",
       "         [ 0.0000,  0.0000,  0.0000,  ...,  0.0000,  0.0000,  0.0000],\n",
       "         [ 0.0000,  0.0000,  0.0000,  ...,  0.0000,  0.0000,  0.0000],\n",
       "         [ 0.0000,  0.0000,  0.0000,  ...,  0.0000,  0.0000,  0.0000]]),\n",
       " 5)"
      ]
     },
     "execution_count": 266,
     "metadata": {},
     "output_type": "execute_result"
    }
   ],
   "source": [
    "embed_text(X_train.iloc[90790])"
   ]
  },
  {
   "cell_type": "code",
   "execution_count": 267,
   "metadata": {},
   "outputs": [
    {
     "data": {
      "text/plain": [
       "array(['Amusement', 'IT', 'International', 'national', 'politics',\n",
       "       'sports'], dtype=object)"
      ]
     },
     "execution_count": 267,
     "metadata": {},
     "output_type": "execute_result"
    }
   ],
   "source": [
    "le=LabelEncoder()\n",
    "le.fit(dataset['category'])\n",
    "le.classes_"
   ]
  },
  {
   "cell_type": "code",
   "execution_count": 268,
   "metadata": {},
   "outputs": [
    {
     "data": {
      "text/plain": [
       "array(['International'], dtype=object)"
      ]
     },
     "execution_count": 268,
     "metadata": {},
     "output_type": "execute_result"
    }
   ],
   "source": [
    "le.inverse_transform([y_train[90790]])"
   ]
  },
  {
   "cell_type": "markdown",
   "metadata": {},
   "source": [
    "## Dataset Creation"
   ]
  },
  {
   "cell_type": "code",
   "execution_count": 269,
   "metadata": {},
   "outputs": [],
   "source": [
    "import torch.utils.data as data"
   ]
  },
  {
   "cell_type": "code",
   "execution_count": 376,
   "metadata": {},
   "outputs": [],
   "source": [
    "class NewsHeadlineDataset(data.Dataset):\n",
    "    def __init__(self, headline, label):\n",
    "        super(NewsHeadlineDataset, self).__init__()\n",
    "        \n",
    "        self.headlines=list(headline)\n",
    "        self.labels=label\n",
    "        \n",
    "    def __len__(self):\n",
    "        return len(self.headlines)\n",
    "    \n",
    "    def __getitem__(self, idx):\n",
    "        h=self.headlines[idx]\n",
    "        a=self.labels[idx]\n",
    "        \n",
    "        #print('Headline:  ',h)\n",
    "        embedding,n=embed_text(h)\n",
    "        #print('Length:    ',n)\n",
    "        #print('Answer: ',le.inverse_transform([a]))\n",
    "        \n",
    "        return embedding,n,a"
   ]
  },
  {
   "cell_type": "code",
   "execution_count": 377,
   "metadata": {},
   "outputs": [
    {
     "data": {
      "text/plain": [
       "(tensor([[-0.1279,  0.1105, -0.0578,  ...,  0.0695,  0.0996, -0.1803],\n",
       "         [ 0.4081,  0.0382, -0.5042,  ...,  0.2732, -0.4717, -0.3955],\n",
       "         [ 0.1562,  0.3349, -0.7114,  ...,  0.0854, -0.7943, -0.3885],\n",
       "         ...,\n",
       "         [ 0.0000,  0.0000,  0.0000,  ...,  0.0000,  0.0000,  0.0000],\n",
       "         [ 0.0000,  0.0000,  0.0000,  ...,  0.0000,  0.0000,  0.0000],\n",
       "         [ 0.0000,  0.0000,  0.0000,  ...,  0.0000,  0.0000,  0.0000]]),\n",
       " 7,\n",
       " 5)"
      ]
     },
     "execution_count": 377,
     "metadata": {},
     "output_type": "execute_result"
    }
   ],
   "source": [
    "train_set=NewsHeadlineDataset(X_train,y_train)\n",
    "train_set.__getitem__(100)"
   ]
  },
  {
   "cell_type": "code",
   "execution_count": 378,
   "metadata": {},
   "outputs": [
    {
     "data": {
      "text/plain": [
       "(tensor([[ 0.3642,  0.5048,  0.8728,  ...,  0.3411,  0.1621,  0.2830],\n",
       "         [-0.5983, -0.2389, -0.2803,  ..., -0.4920,  0.4673,  0.2201],\n",
       "         [-0.0654,  0.1253, -0.3436,  ..., -0.7648,  0.3672, -0.3848],\n",
       "         ...,\n",
       "         [ 0.0000,  0.0000,  0.0000,  ...,  0.0000,  0.0000,  0.0000],\n",
       "         [ 0.0000,  0.0000,  0.0000,  ...,  0.0000,  0.0000,  0.0000],\n",
       "         [ 0.0000,  0.0000,  0.0000,  ...,  0.0000,  0.0000,  0.0000]]),\n",
       " 9,\n",
       " 4)"
      ]
     },
     "execution_count": 378,
     "metadata": {},
     "output_type": "execute_result"
    }
   ],
   "source": [
    "valid_set=NewsHeadlineDataset(X_valid,y_valid)\n",
    "valid_set.__getitem__(1)"
   ]
  },
  {
   "cell_type": "code",
   "execution_count": 379,
   "metadata": {},
   "outputs": [
    {
     "data": {
      "text/plain": [
       "(tensor([[-0.1469,  0.0466,  0.1638,  ...,  0.0936,  0.0732,  0.0603],\n",
       "         [ 0.1160,  0.1137, -0.1367,  ...,  0.2021, -0.1933, -0.1186],\n",
       "         [-0.5998, -0.3847,  0.2584,  ...,  0.0764,  0.3469,  0.2975],\n",
       "         ...,\n",
       "         [ 0.0000,  0.0000,  0.0000,  ...,  0.0000,  0.0000,  0.0000],\n",
       "         [ 0.0000,  0.0000,  0.0000,  ...,  0.0000,  0.0000,  0.0000],\n",
       "         [ 0.0000,  0.0000,  0.0000,  ...,  0.0000,  0.0000,  0.0000]]),\n",
       " 4,\n",
       " 5)"
      ]
     },
     "execution_count": 379,
     "metadata": {},
     "output_type": "execute_result"
    }
   ],
   "source": [
    "test_set=NewsHeadlineDataset(X_test,y_test)\n",
    "test_set.__getitem__(1)"
   ]
  },
  {
   "cell_type": "code",
   "execution_count": 472,
   "metadata": {},
   "outputs": [
    {
     "data": {
      "text/plain": [
       "device(type='cuda')"
      ]
     },
     "execution_count": 472,
     "metadata": {},
     "output_type": "execute_result"
    }
   ],
   "source": [
    "device=torch.device('cuda' if torch.cuda.is_available() else 'cpu')\n",
    "device"
   ]
  },
  {
   "cell_type": "markdown",
   "metadata": {},
   "source": [
    "## Model Definition"
   ]
  },
  {
   "cell_type": "code",
   "execution_count": 475,
   "metadata": {},
   "outputs": [],
   "source": [
    "class LSTM(nn.Module):\n",
    "    def __init__(self, embedding_dim, hidden_dim, output_size, num_layers):\n",
    "        super(LSTM, self).__init__()\n",
    "        \n",
    "        self.embedding_dim=embedding_dim\n",
    "        self.hidden_dim=hidden_dim\n",
    "        self.num_layers=num_layers\n",
    "        self.output_size=output_size\n",
    "        \n",
    "        self.lstm=nn.LSTM(embedding_dim, hidden_dim, num_layers, bidirectional=False, batch_first=True)\n",
    "        \n",
    "        self.fc=nn.Linear(hidden_dim, output_size)\n",
    "        \n",
    "        self.dropout=nn.Dropout(0.5)\n",
    "        self.relu=nn.ReLU()\n",
    "        \n",
    "    def forward(self, embedding, n):\n",
    "        h0 = torch.zeros(self.num_layers, embedding.size(0), self.hidden_dim).to(device)\n",
    "        c0 = torch.zeros(self.num_layers, embedding.size(0), self.hidden_dim).to(device)\n",
    "    \n",
    "        out,_=self.lstm(embedding, (h0,c0))\n",
    "        \n",
    "        out=self.fc(out[:,-1,:])\n",
    "        \n",
    "        return out"
   ]
  },
  {
   "cell_type": "code",
   "execution_count": 477,
   "metadata": {},
   "outputs": [
    {
     "data": {
      "text/plain": [
       "LSTM(\n",
       "  (lstm): LSTM(300, 512, batch_first=True)\n",
       "  (fc): Linear(in_features=512, out_features=6, bias=True)\n",
       "  (dropout): Dropout(p=0.5, inplace=False)\n",
       "  (relu): ReLU()\n",
       ")"
      ]
     },
     "execution_count": 477,
     "metadata": {},
     "output_type": "execute_result"
    }
   ],
   "source": [
    "from torchsummary import summary\n",
    "model=LSTM(embedding_dim=300,hidden_dim=512,output_size=6,num_layers=1).to(device)\n",
    "model"
   ]
  },
  {
   "cell_type": "markdown",
   "metadata": {},
   "source": [
    "## Hyperparameters"
   ]
  },
  {
   "cell_type": "code",
   "execution_count": 478,
   "metadata": {},
   "outputs": [],
   "source": [
    "learning_rate=0.001\n",
    "batch=256\n",
    "epoch=10\n",
    "\n",
    "optimizer=torch.optim.Adam(model.parameters(), lr=learning_rate)\n",
    "criterion=nn.CrossEntropyLoss()"
   ]
  },
  {
   "cell_type": "markdown",
   "metadata": {},
   "source": [
    "## Model Training"
   ]
  },
  {
   "cell_type": "code",
   "execution_count": 479,
   "metadata": {},
   "outputs": [],
   "source": [
    "train_loader=DataLoader(dataset=train_set, batch_size=batch, shuffle=True)\n",
    "valid_loader=DataLoader(dataset=valid_set, batch_size=batch, shuffle=True)\n",
    "test_loader=DataLoader(dataset=test_set, batch_size=batch)"
   ]
  },
  {
   "cell_type": "code",
   "execution_count": 480,
   "metadata": {},
   "outputs": [
    {
     "name": "stdout",
     "output_type": "stream",
     "text": [
      "<-----------------Start Training------------------->\n",
      "Epoch 0--> Loss: 0.8197503800698143   Accuracy: 0.6888787150382996\n",
      "\t\tValidation Loss:  0.5948783603120358  Validation Accuracy:  0.7840341925621033\n",
      "Epoch 1--> Loss: 0.5384210269240772   Accuracy: 0.8019092679023743\n",
      "\t\tValidation Loss:  0.5132399781587276  Validation Accuracy:  0.8062666058540344\n",
      "Epoch 2--> Loss: 0.4691705499740845   Accuracy: 0.8261092305183411\n",
      "\t\tValidation Loss:  0.48010195189333976  Validation Accuracy:  0.8171957731246948\n",
      "Epoch 3--> Loss: 0.42085326809615375   Accuracy: 0.8407315611839294\n",
      "\t\tValidation Loss:  0.4659390909240601  Validation Accuracy:  0.8235538005828857\n",
      "Epoch 4--> Loss: 0.37377106764896667   Accuracy: 0.8594794869422913\n",
      "\t\tValidation Loss:  0.47052545845508575  Validation Accuracy:  0.8256316184997559\n",
      "Epoch 5--> Loss: 0.3347771058187765   Accuracy: 0.8733811378479004\n",
      "\t\tValidation Loss:  0.4544187549580919  Validation Accuracy:  0.8307845592498779\n",
      "Epoch 6--> Loss: 0.2902273285516443   Accuracy: 0.8910845518112183\n",
      "\t\tValidation Loss:  0.4673027472293123  Validation Accuracy:  0.8299534320831299\n",
      "Epoch 7--> Loss: 0.24929456647864   Accuracy: 0.9057695865631104\n",
      "\t\tValidation Loss:  0.5122950787239886  Validation Accuracy:  0.8301612138748169\n",
      "Epoch 8--> Loss: 0.2140233830254983   Accuracy: 0.9191176891326904\n",
      "\t\tValidation Loss:  0.5379763565799023  Validation Accuracy:  0.8309923410415649\n",
      "Epoch 9--> Loss: 0.17941595721531678   Accuracy: 0.9329984188079834\n",
      "\t\tValidation Loss:  0.5457197567249866  Validation Accuracy:  0.8323636651039124\n",
      "<-----------------Finished Training------------------->\n"
     ]
    }
   ],
   "source": [
    "train_loss=[]\n",
    "train_acc=[]\n",
    "valid_loss=[]\n",
    "valid_acc=[]\n",
    "prev_acc=0.0\n",
    "\n",
    "print('<-----------------Start Training------------------->')\n",
    "for ep in range(epoch):\n",
    "    model.train()\n",
    "    num_updates, accuracy, loss_=0.0,0.0,0.0\n",
    "    v_acc, v_loss, v_count=0.0,0.0,0.0\n",
    "    for i,m,n in train_loader:\n",
    "        embedding=i.to(device)\n",
    "        seq_len=m.to(device)\n",
    "        label=n.to(device)\n",
    "\n",
    "        model.zero_grad()\n",
    "        output=model(embedding,seq_len)\n",
    "        _,pred=torch.max(output,1)\n",
    "\n",
    "        loss=criterion(output,label.long()) \n",
    "        loss.backward()\n",
    "        optimizer.step()\n",
    "        \n",
    "        accuracy+=torch.sum(pred==label)\n",
    "        loss_+=loss.item()\n",
    "        \n",
    "        num_updates+=1\n",
    "        \n",
    "    train_loss.append(loss_/(num_updates))\n",
    "    train_acc.append(accuracy/(num_updates*batch))\n",
    "    \n",
    "    print('Epoch {}--> Loss: {}   Accuracy: {}'.format(ep,(loss_/(num_updates)),(accuracy/(num_updates*batch))))\n",
    "    \n",
    "    \n",
    "    with torch.no_grad():\n",
    "        model.eval()\n",
    "        for embedd, seq, ans in valid_loader:\n",
    "            op=model(embedd.to(device),seq.to(device))\n",
    "            _,ypred=torch.max(op,1)\n",
    "\n",
    "            l=criterion(op,ans.long().to(device))\n",
    "\n",
    "            v_acc+=torch.sum(ypred==ans.to(device))\n",
    "            v_loss+=l.item()\n",
    "\n",
    "            v_count+=1\n",
    "    \n",
    "    valid_loss.append(v_loss/(v_count))\n",
    "    valid_acc.append(v_acc/(v_count*batch))\n",
    "    \n",
    "    print('\\t\\tValidation Loss:  {}  Validation Accuracy:  {}'.format((v_loss/(v_count)),(v_acc/(v_count*batch))))\n",
    "        \n",
    "print('<-----------------Finished Training------------------->')"
   ]
  },
  {
   "cell_type": "code",
   "execution_count": 523,
   "metadata": {},
   "outputs": [],
   "source": [
    "torch.save(model.state_dict(), 'Model_trained_News_Headline.pth')"
   ]
  },
  {
   "cell_type": "code",
   "execution_count": 524,
   "metadata": {},
   "outputs": [],
   "source": [
    "train_accuracy=[]\n",
    "for t in train_acc:\n",
    "    train_accuracy.append(t.to('cpu'))\n",
    "valid_accuracy=[]\n",
    "for t in valid_acc:\n",
    "    valid_accuracy.append(t.to('cpu'))"
   ]
  },
  {
   "cell_type": "code",
   "execution_count": 525,
   "metadata": {},
   "outputs": [
    {
     "data": {
      "image/png": "[encoded data removed]",
      "text/plain": [
       "<Figure size 432x288 with 1 Axes>"
      ]
     },
     "metadata": {},
     "output_type": "display_data"
    }
   ],
   "source": [
    "import matplotlib.pyplot as plt\n",
    "epochs_=[]\n",
    "for i in range(10):\n",
    "    epochs_.append(i)\n",
    "plt.plot(epochs_,train_accuracy,label='Train')\n",
    "plt.plot(epochs_,valid_accuracy,label='Valid')\n",
    "plt.xlabel('Epochs')\n",
    "plt.ylabel('Accuracy')\n",
    "plt.title('Train-Valid Accuracy Plot')\n",
    "plt.legend()\n",
    "plt.show()"
   ]
  },
  {
   "cell_type": "code",
   "execution_count": 526,
   "metadata": {},
   "outputs": [
    {
     "data": {
      "image/png": "[encoded data removed]",
      "text/plain": [
       "<Figure size 432x288 with 1 Axes>"
      ]
     },
     "metadata": {},
     "output_type": "display_data"
    }
   ],
   "source": [
    "import matplotlib.pyplot as plt\n",
    "epochs_=[]\n",
    "for i in range(10):\n",
    "    epochs_.append(i)\n",
    "plt.plot(epochs_,train_loss,label='Train')\n",
    "plt.plot(epochs_,valid_loss,label='Valid')\n",
    "plt.xlabel('Epochs')\n",
    "plt.ylabel('Loss')\n",
    "plt.title('Train-Valid Loss Plot')\n",
    "plt.legend()\n",
    "plt.show()"
   ]
  },
  {
   "cell_type": "markdown",
   "metadata": {},
   "source": [
    "## Model Testing"
   ]
  },
  {
   "cell_type": "code",
   "execution_count": 583,
   "metadata": {},
   "outputs": [
    {
     "name": "stdout",
     "output_type": "stream",
     "text": [
      "\u001b[1m Test Loss:  0.5579  Test Accuracy:  0.8334 \u001b[0;0m\n"
     ]
    }
   ],
   "source": [
    "test_labels=[]\n",
    "predicted_labels=[]\n",
    "\n",
    "with torch.no_grad():\n",
    "    test_acc, test_loss, test_count=0.0,0.0,0.0\n",
    "    model.eval()\n",
    "    for embedd, seq, ans in test_loader:\n",
    "        op=model(embedd.to(device),seq.to(device))\n",
    "        _,ypred=torch.max(op,1)\n",
    "        \n",
    "        test_labels.extend(ans)\n",
    "        predicted_labels.extend(ypred)\n",
    "\n",
    "        l=criterion(op,ans.long().to(device))\n",
    "\n",
    "        test_acc+=torch.sum(ypred==ans.to(device))\n",
    "        test_loss+=l.item()\n",
    "\n",
    "        test_count+=1\n",
    "    \n",
    "    test_accuracy=test_acc/(test_count*batch)\n",
    "    test_loss_score=test_loss/(test_count)\n",
    "    \n",
    "    print('\\033[1m Test Loss:  {0:0.4f}  Test Accuracy:  {1:0.4f} \\033[0;0m'.format((test_loss_score),(test_accuracy)))"
   ]
  },
  {
   "cell_type": "markdown",
   "metadata": {},
   "source": [
    "## Result Analysis"
   ]
  },
  {
   "cell_type": "code",
   "execution_count": 584,
   "metadata": {},
   "outputs": [],
   "source": [
    "test_seq_labels=[]\n",
    "for k in range(len(test_labels)):\n",
    "    test_seq_labels.append(test_labels[k].to('cpu').item())\n",
    "\n",
    "pred_seq_labels=[]\n",
    "for k in range(len(predicted_labels)):\n",
    "    pred_seq_labels.append(predicted_labels[k].to('cpu').item())"
   ]
  },
  {
   "cell_type": "code",
   "execution_count": 586,
   "metadata": {},
   "outputs": [
    {
     "data": {
      "image/png": "[encoded data removed]",
      "text/plain": [
       "<Figure size 864x720 with 2 Axes>"
      ]
     },
     "metadata": {},
     "output_type": "display_data"
    }
   ],
   "source": [
    "cm=confusion_matrix(test_seq_labels, pred_seq_labels)\n",
    "cm_df=pd.DataFrame(cm, index=['Amusement', 'IT', 'International', 'national', 'politics','sports'],\n",
    "                  columns=['Amusement', 'IT', 'International', 'national', 'politics','sports'])\n",
    "\n",
    "plt.figure(figsize=(12,10))\n",
    "sns.heatmap(cm_df, annot=True,fmt='g',cmap=\"twilight_shifted_r\")\n",
    "plt.title('LSTM \\nAccuracy: {0:.4f}\\n'.format(test_accuracy*100))\n",
    "plt.xlabel('Predicted Label')\n",
    "plt.ylabel('Actual Label')\n",
    "plt.xticks(rotation=45)\n",
    "plt.yticks(rotation=45)\n",
    "plt.show()"
   ]
  },
  {
   "cell_type": "code",
   "execution_count": 590,
   "metadata": {},
   "outputs": [
    {
     "data": {
      "text/html": [
       "<div>\n",
       "<style scoped>\n",
       "    .dataframe tbody tr th:only-of-type {\n",
       "        vertical-align: middle;\n",
       "    }\n",
       "\n",
       "    .dataframe tbody tr th {\n",
       "        vertical-align: top;\n",
       "    }\n",
       "\n",
       "    .dataframe thead th {\n",
       "        text-align: right;\n",
       "    }\n",
       "</style>\n",
       "<table border=\"1\" class=\"dataframe\">\n",
       "  <thead>\n",
       "    <tr style=\"text-align: right;\">\n",
       "      <th></th>\n",
       "      <th>precision</th>\n",
       "      <th>recall</th>\n",
       "      <th>f1-score</th>\n",
       "      <th>support</th>\n",
       "    </tr>\n",
       "  </thead>\n",
       "  <tbody>\n",
       "    <tr>\n",
       "      <th>Amusement</th>\n",
       "      <td>83.24</td>\n",
       "      <td>86.95</td>\n",
       "      <td>85.06</td>\n",
       "      <td>1617.000000</td>\n",
       "    </tr>\n",
       "    <tr>\n",
       "      <th>IT</th>\n",
       "      <td>74.15</td>\n",
       "      <td>53.15</td>\n",
       "      <td>61.91</td>\n",
       "      <td>286.000000</td>\n",
       "    </tr>\n",
       "    <tr>\n",
       "      <th>International</th>\n",
       "      <td>88.13</td>\n",
       "      <td>90.46</td>\n",
       "      <td>89.28</td>\n",
       "      <td>4852.000000</td>\n",
       "    </tr>\n",
       "    <tr>\n",
       "      <th>National</th>\n",
       "      <td>70.52</td>\n",
       "      <td>70.02</td>\n",
       "      <td>70.27</td>\n",
       "      <td>2398.000000</td>\n",
       "    </tr>\n",
       "    <tr>\n",
       "      <th>Politics</th>\n",
       "      <td>69.85</td>\n",
       "      <td>63.76</td>\n",
       "      <td>66.67</td>\n",
       "      <td>1054.000000</td>\n",
       "    </tr>\n",
       "    <tr>\n",
       "      <th>Sports</th>\n",
       "      <td>91.52</td>\n",
       "      <td>91.22</td>\n",
       "      <td>91.37</td>\n",
       "      <td>3065.000000</td>\n",
       "    </tr>\n",
       "    <tr>\n",
       "      <th>accuracy</th>\n",
       "      <td>83.59</td>\n",
       "      <td>83.59</td>\n",
       "      <td>83.59</td>\n",
       "      <td>0.835895</td>\n",
       "    </tr>\n",
       "    <tr>\n",
       "      <th>macro avg</th>\n",
       "      <td>79.57</td>\n",
       "      <td>75.93</td>\n",
       "      <td>77.43</td>\n",
       "      <td>13272.000000</td>\n",
       "    </tr>\n",
       "    <tr>\n",
       "      <th>weighted avg</th>\n",
       "      <td>83.38</td>\n",
       "      <td>83.59</td>\n",
       "      <td>83.43</td>\n",
       "      <td>13272.000000</td>\n",
       "    </tr>\n",
       "  </tbody>\n",
       "</table>\n",
       "</div>"
      ],
      "text/plain": [
       "               precision  recall  f1-score       support\n",
       "Amusement          83.24   86.95     85.06   1617.000000\n",
       "IT                 74.15   53.15     61.91    286.000000\n",
       "International      88.13   90.46     89.28   4852.000000\n",
       "National           70.52   70.02     70.27   2398.000000\n",
       "Politics           69.85   63.76     66.67   1054.000000\n",
       "Sports             91.52   91.22     91.37   3065.000000\n",
       "accuracy           83.59   83.59     83.59      0.835895\n",
       "macro avg          79.57   75.93     77.43  13272.000000\n",
       "weighted avg       83.38   83.59     83.43  13272.000000"
      ]
     },
     "execution_count": 590,
     "metadata": {},
     "output_type": "execute_result"
    }
   ],
   "source": [
    "report = pd.DataFrame(classification_report(y_true = test_seq_labels, y_pred = pred_seq_labels, output_dict=True)).transpose()\n",
    "report = report.rename(index={'0': 'Amusement','1':'IT','2':'International','3':'National','4':'Politics','5':'Sports'})\n",
    "report[['precision','recall','f1-score']]=report[['precision','recall','f1-score']].apply(lambda x: round(x*100,2))\n",
    "report"
   ]
  }
 ],
 "metadata": {
  "kernelspec": {
   "display_name": "Python 3",
   "language": "python",
   "name": "python3"
  },
  "language_info": {
   "codemirror_mode": {
    "name": "ipython",
    "version": 3
   },
   "file_extension": ".py",
   "mimetype": "text/x-python",
   "name": "python",
   "nbconvert_exporter": "python",
   "pygments_lexer": "ipython3",
   "version": "3.8.5"
  }
 },
 "nbformat": 4,
 "nbformat_minor": 4
}
